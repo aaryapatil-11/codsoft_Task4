{
 "cells": [
  {
   "cell_type": "markdown",
   "id": "cbef7597-4627-47ca-837d-3fd01fef5f0f",
   "metadata": {},
   "source": [
    "# Contack Book"
   ]
  },
  {
   "cell_type": "code",
   "execution_count": 1,
   "id": "0d5c992a-b1b9-4da2-82d9-048473f6e15a",
   "metadata": {},
   "outputs": [
    {
     "name": "stdout",
     "output_type": "stream",
     "text": [
      "\n",
      "Contact Book Menu:\n",
      "1. Add Contact\n",
      "2. View Contact List\n",
      "3. Search Contact\n",
      "4. Update Contact\n",
      "5. Delete Contact\n",
      "6. Quit\n"
     ]
    },
    {
     "name": "stdin",
     "output_type": "stream",
     "text": [
      "Enter your choice:  1\n",
      "Enter contact name:  Aarya\n",
      "Enter contact phone number:  9834026722\n",
      "Enter contact email:  aaryapa\n",
      "Enter contact address:  takari\n"
     ]
    },
    {
     "name": "stdout",
     "output_type": "stream",
     "text": [
      "Contact 'Aarya' added successfully!\n",
      "\n",
      "Contact Book Menu:\n",
      "1. Add Contact\n",
      "2. View Contact List\n",
      "3. Search Contact\n",
      "4. Update Contact\n",
      "5. Delete Contact\n",
      "6. Quit\n"
     ]
    },
    {
     "name": "stdin",
     "output_type": "stream",
     "text": [
      "Enter your choice:  2\n"
     ]
    },
    {
     "name": "stdout",
     "output_type": "stream",
     "text": [
      "Contact List:\n",
      "1. Name: Aarya, Phone: 9834026722\n",
      "\n",
      "Contact Book Menu:\n",
      "1. Add Contact\n",
      "2. View Contact List\n",
      "3. Search Contact\n",
      "4. Update Contact\n",
      "5. Delete Contact\n",
      "6. Quit\n"
     ]
    },
    {
     "name": "stdin",
     "output_type": "stream",
     "text": [
      "Enter your choice:  3\n",
      "Enter name or phone number to search:  Aarya\n"
     ]
    },
    {
     "name": "stdout",
     "output_type": "stream",
     "text": [
      "1. Name: Aarya, Phone: 9834026722, Email: aaryapa, Address: takari\n",
      "\n",
      "Contact Book Menu:\n",
      "1. Add Contact\n",
      "2. View Contact List\n",
      "3. Search Contact\n",
      "4. Update Contact\n",
      "5. Delete Contact\n",
      "6. Quit\n"
     ]
    },
    {
     "name": "stdin",
     "output_type": "stream",
     "text": [
      "Enter your choice:  6\n"
     ]
    },
    {
     "name": "stdout",
     "output_type": "stream",
     "text": [
      "Goodbye!\n"
     ]
    }
   ],
   "source": [
    "contacts = []\n",
    "\n",
    "def add_contact():\n",
    "    name = input(\"Enter contact name: \")\n",
    "    phone = input(\"Enter contact phone number: \")\n",
    "    email = input(\"Enter contact email: \")\n",
    "    address = input(\"Enter contact address: \")\n",
    "    contacts.append({'name': name, 'phone': phone, 'email': email, 'address': address})\n",
    "    print(f\"Contact '{name}' added successfully!\")\n",
    "\n",
    "def view_contacts():\n",
    "    if not contacts:\n",
    "        print(\"No contacts available.\")\n",
    "    else:\n",
    "        print(\"Contact List:\")\n",
    "        for index, contact in enumerate(contacts):\n",
    "            print(f\"{index + 1}. Name: {contact['name']}, Phone: {contact['phone']}\")\n",
    "\n",
    "def search_contact():\n",
    "    search = input(\"Enter name or phone number to search: \")\n",
    "    results = [contact for contact in contacts if search in contact['name'] or search in contact['phone']]\n",
    "    if results:\n",
    "        for index, contact in enumerate(results):\n",
    "            print(f\"{index + 1}. Name: {contact['name']}, Phone: {contact['phone']}, Email: {contact['email']}, Address: {contact['address']}\")\n",
    "    else:\n",
    "        print(\"No contact found.\")\n",
    "\n",
    "def update_contact():\n",
    "    search = input(\"Enter name or phone number of the contact to update: \")\n",
    "    for contact in contacts:\n",
    "        if search in contact['name'] or search in contact['phone']:\n",
    "            print(f\"Updating contact: {contact['name']}\")\n",
    "            contact['name'] = input(f\"Enter new name (current: {contact['name']}): \") or contact['name']\n",
    "            contact['phone'] = input(f\"Enter new phone number (current: {contact['phone']}): \") or contact['phone']\n",
    "            contact['email'] = input(f\"Enter new email (current: {contact['email']}): \") or contact['email']\n",
    "            contact['address'] = input(f\"Enter new address (current: {contact['address']}): \") or contact['address']\n",
    "            print(f\"Contact '{contact['name']}' updated successfully!\")\n",
    "            return\n",
    "    print(\"Contact not found.\")\n",
    "\n",
    "def delete_contact():\n",
    "    search = input(\"Enter name or phone number of the contact to delete: \")\n",
    "    for contact in contacts:\n",
    "        if search in contact['name'] or search in contact['phone']:\n",
    "            contacts.remove(contact)\n",
    "            print(f\"Contact '{contact['name']}' deleted successfully!\")\n",
    "            return\n",
    "    print(\"Contact not found.\")\n",
    "\n",
    "def main():\n",
    "    while True:\n",
    "        print(\"\\nContact Book Menu:\")\n",
    "        print(\"1. Add Contact\")\n",
    "        print(\"2. View Contact List\")\n",
    "        print(\"3. Search Contact\")\n",
    "        print(\"4. Update Contact\")\n",
    "        print(\"5. Delete Contact\")\n",
    "        print(\"6. Quit\")\n",
    "\n",
    "        choice = input(\"Enter your choice: \")\n",
    "\n",
    "        if choice == \"1\":\n",
    "            add_contact()\n",
    "        elif choice == \"2\":\n",
    "            view_contacts()\n",
    "        elif choice == \"3\":\n",
    "            search_contact()\n",
    "        elif choice == \"4\":\n",
    "            update_contact()\n",
    "        elif choice == \"5\":\n",
    "            delete_contact()\n",
    "        elif choice == \"6\":\n",
    "            break\n",
    "        else:\n",
    "            print(\"Invalid choice. Please try again.\")\n",
    "\n",
    "    print(\"Goodbye!\")\n",
    "\n",
    "if __name__ == \"__main__\":\n",
    "    main()\n"
   ]
  },
  {
   "cell_type": "code",
   "execution_count": null,
   "id": "4cf29d39-4c03-4d84-a47d-3972ecf40fd5",
   "metadata": {},
   "outputs": [],
   "source": []
  }
 ],
 "metadata": {
  "kernelspec": {
   "display_name": "Python 3 (ipykernel)",
   "language": "python",
   "name": "python3"
  },
  "language_info": {
   "codemirror_mode": {
    "name": "ipython",
    "version": 3
   },
   "file_extension": ".py",
   "mimetype": "text/x-python",
   "name": "python",
   "nbconvert_exporter": "python",
   "pygments_lexer": "ipython3",
   "version": "3.11.7"
  }
 },
 "nbformat": 4,
 "nbformat_minor": 5
}
